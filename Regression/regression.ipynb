{
 "cells": [
  {
   "cell_type": "code",
   "execution_count": 7,
   "metadata": {},
   "outputs": [],
   "source": [
    "import numpy as np\n",
    "import matplotlib.pyplot as plt\n",
    "import pandas as pd\n",
    "from sklearn.datasets import fetch_california_housing\n",
    "from sklearn.linear_model import LinearRegression, Ridge, Lasso\n",
    "import sklearn.linear_model as linear_model\n",
    "from sklearn.metrics import mean_squared_error\n",
    "from sklearn.model_selection import train_test_split\n",
    "import sklearn.preprocessing as preprocessing"
   ]
  },
  {
   "cell_type": "markdown",
   "metadata": {},
   "source": [
    "The following function creates one dimensional linear data and add a gaussian noise i.e $y = a \\times x + \\varepsilon$"
   ]
  },
  {
   "cell_type": "code",
   "execution_count": 8,
   "metadata": {},
   "outputs": [],
   "source": [
    "def generate_data(n, a, variance):\n",
    "    X = np.random.normal(size=(n,))\n",
    "    y = X * a + np.sqrt(variance) * np.random.normal(size=(n,))\n",
    "    return X.reshape((-1,1)), y"
   ]
  },
  {
   "cell_type": "markdown",
   "metadata": {},
   "source": [
    "We generate and plot some arbitrary randomized data $(X,Y)$ along the noiseless function $y=ax$."
   ]
  },
  {
   "cell_type": "code",
   "execution_count": 9,
   "metadata": {},
   "outputs": [
    {
     "data": {
      "image/png": "[encoded data removed]",
      "text/plain": [
       "<Figure size 640x480 with 1 Axes>"
      ]
     },
     "metadata": {},
     "output_type": "display_data"
    }
   ],
   "source": [
    "a = 3; n = 10; \n",
    "X, y = generate_data(n, a, 0.5)\n",
    "\n",
    "plt.scatter(X, y)\n",
    "plt.xlabel('X'); plt.ylabel('Y')\n",
    "plt.plot(X,a*X, c='k')\n",
    "plt.show()"
   ]
  },
  {
   "cell_type": "markdown",
   "metadata": {},
   "source": [
    "Next we want to compute the least-square regression using closed form. We use this function on the training data generated above."
   ]
  },
  {
   "cell_type": "code",
   "execution_count": 10,
   "metadata": {},
   "outputs": [],
   "source": [
    "def linear_regression(X, y):\n",
    "    \"\"\"\n",
    "    arguments:\n",
    "        - X : input data matrix\n",
    "        - y : output\n",
    "    returns:\n",
    "        - w : the least square estimator\n",
    "    \"\"\"\n",
    "    X_cov = X.T @ X # Covariance matrix\n",
    "    X_plus = np.linalg.inv(X_cov) @ X.T #Psuedo inverse of X\n",
    "    w = X_plus @ y # Least squares estimator\n",
    "    return w"
   ]
  },
  {
   "cell_type": "code",
   "execution_count": 14,
   "metadata": {},
   "outputs": [
    {
     "ename": "ValueError",
     "evalue": "shapes (10,) and (1,) not aligned: 10 (dim 0) != 1 (dim 0)",
     "output_type": "error",
     "traceback": [
      "\u001b[1;31m---------------------------------------------------------------------------\u001b[0m",
      "\u001b[1;31mValueError\u001b[0m                                Traceback (most recent call last)",
      "Cell \u001b[1;32mIn[14], line 9\u001b[0m\n\u001b[0;32m      6\u001b[0m \u001b[38;5;66;03m# Plot the training points and the predictor evaluated on a set of test points\u001b[39;00m\n\u001b[0;32m      8\u001b[0m X_test \u001b[38;5;241m=\u001b[39m np\u001b[38;5;241m.\u001b[39mlinspace(np\u001b[38;5;241m.\u001b[39mmin(X), np\u001b[38;5;241m.\u001b[39mmax(X), \u001b[38;5;241m10\u001b[39m)\n\u001b[1;32m----> 9\u001b[0m y_test_pred \u001b[38;5;241m=\u001b[39m \u001b[43mnp\u001b[49m\u001b[38;5;241;43m.\u001b[39;49m\u001b[43mdot\u001b[49m\u001b[43m(\u001b[49m\u001b[43mX_test\u001b[49m\u001b[43m,\u001b[49m\u001b[43m \u001b[49m\u001b[43mw\u001b[49m\u001b[43m)\u001b[49m \n\u001b[0;32m     11\u001b[0m plt\u001b[38;5;241m.\u001b[39mscatter(X, y)\n\u001b[0;32m     12\u001b[0m plt\u001b[38;5;241m.\u001b[39mplot(X_test, a \u001b[38;5;241m*\u001b[39m X_test, \u001b[38;5;124m'\u001b[39m\u001b[38;5;124mk\u001b[39m\u001b[38;5;124m'\u001b[39m)\n",
      "\u001b[1;31mValueError\u001b[0m: shapes (10,) and (1,) not aligned: 10 (dim 0) != 1 (dim 0)"
     ]
    }
   ],
   "source": [
    "# Print the predicted weights (coefficient + bias)\n",
    "\n",
    "w = linear_regression(X, y)\n",
    "w\n",
    "\n",
    "# Plot the training points and the predictor evaluated on a set of test points\n",
    "\n",
    "X_test = np.linspace(np.min(X), np.max(X), 10)\n",
    "y_test_pred = np.dot(X_test, w) \n",
    "\n",
    "plt.scatter(X, y)\n",
    "plt.plot(X_test, a * X_test, 'k')\n",
    "plt.plot(X_test, y_test_pred, 'r--')\n",
    "plt.xlabel('X')\n",
    "plt.ylabel('y')"
   ]
  }
 ],
 "metadata": {
  "kernelspec": {
   "display_name": "Python 3",
   "language": "python",
   "name": "python3"
  },
  "language_info": {
   "codemirror_mode": {
    "name": "ipython",
    "version": 3
   },
   "file_extension": ".py",
   "mimetype": "text/x-python",
   "name": "python",
   "nbconvert_exporter": "python",
   "pygments_lexer": "ipython3",
   "version": "3.12.5"
  }
 },
 "nbformat": 4,
 "nbformat_minor": 2
}
