{
 "cells": [
  {
   "cell_type": "code",
   "execution_count": 2,
   "metadata": {},
   "outputs": [],
   "source": [
    "import numpy as np\n",
    "import matplotlib.pyplot as plt"
   ]
  },
  {
   "cell_type": "markdown",
   "metadata": {},
   "source": [
    "This is a starter notebook for project 2 in TMA4320 Spring 2023. It is recommended that you make sure all code of this notebook runs as expected before you start working on the project. You can then use whatever parts of this notebook you see fit in your final submission. You do not have to use the code as it is handed out, feel free to use it differently."
   ]
  },
  {
   "cell_type": "markdown",
   "metadata": {},
   "source": [
    "<h1> Task 1 </h1>\n",
    "\n",
    "Example of how to define a matrix as an array and calculate its SVD. We pass the `full_matrices = False` argument so that it does not calculate\n",
    "more entries than necessary."
   ]
  },
  {
   "cell_type": "code",
   "execution_count": 3,
   "metadata": {},
   "outputs": [
    {
     "name": "stdout",
     "output_type": "stream",
     "text": [
      "Shape of U:  (3, 2)\n",
      "Shape of S:  (2,)\n",
      "Shape of Vt:  (2, 2)\n"
     ]
    }
   ],
   "source": [
    "# Create matrix\n",
    "A1 = np.array([[1000,1],[0,1],[0,0]])\n",
    "\n",
    "# Calculate SVD\n",
    "U,S,Vt = np.linalg.svd(A1, full_matrices = False)\n",
    "\n",
    "# Print shapes \n",
    "print(\"Shape of U: \", U.shape) # Expect (3,2)\n",
    "\n",
    "print(\"Shape of S: \", S.shape) # Expect (2,)\n",
    "\n",
    "print(\"Shape of Vt: \", Vt.shape) # Expect (2,2)\n"
   ]
  },
  {
   "cell_type": "markdown",
   "metadata": {},
   "source": [
    "<h1> Task 2 </h1>\n",
    "\n",
    "We first load the data. Note that the files `train.npy` and `test.npy` should be in the same folder as this notebook.\n",
    "\n",
    "The data is stored as `(number of pixels, number of classes, number of datapoints)`.\n",
    "We have a total of $5000$ training data points for each class, and $800$ test datapoints for each class.\n"
   ]
  },
  {
   "cell_type": "code",
   "execution_count": 4,
   "metadata": {},
   "outputs": [
    {
     "name": "stdout",
     "output_type": "stream",
     "text": [
      "(784, 10, 5000)\n",
      "(784, 10, 800)\n"
     ]
    }
   ],
   "source": [
    "# Load the data and resclae\n",
    "train = np.load('train.npy')/255.0\n",
    "test = np.load('test.npy')/255.0\n",
    "\n",
    "# Shapes are (number of pixels, number of classes, number of data)\n",
    "print(train.shape) # Should be (784,10,5000)\n",
    "print(test.shape) # Should be (784,10,800)\n"
   ]
  },
  {
   "cell_type": "markdown",
   "metadata": {},
   "source": [
    "Below is code that plot images on a grid. Feel free to use this or create a better one yourself."
   ]
  },
  {
   "cell_type": "code",
   "execution_count": 5,
   "metadata": {},
   "outputs": [],
   "source": [
    "def plotimgs(imgs, nplot = 4):\n",
    "    \"\"\"\n",
    "    Plots the nplot*nplot first images in imgs on an nplot x nplot grid. \n",
    "    Assumes heigth = width, and that the images are stored columnwise\n",
    "    input:\n",
    "        imgs: (height*width,N) array containing images, where N > nplot**2\n",
    "        nplot: integer, nplot**2 images will be plotted\n",
    "    \"\"\"\n",
    "\n",
    "    n = imgs.shape[1]\n",
    "    m = int(np.sqrt(imgs.shape[0]))\n",
    "\n",
    "    assert(n > nplot**2), \"Need amount of data in matrix N > nplot**2\"\n",
    "\n",
    "    # Initialize subplots\n",
    "    fig, axes = plt.subplots(nplot,nplot)\n",
    "\n",
    "    # Set background color\n",
    "    plt.gcf().set_facecolor(\"lightgray\")\n",
    "\n",
    "    # Iterate over images\n",
    "    for idx in range(nplot**2):\n",
    "\n",
    "        # Break if we go out of bounds of the array\n",
    "        if idx >= n:\n",
    "            break\n",
    "\n",
    "        # Indices\n",
    "        i = idx//nplot; j = idx%nplot\n",
    "\n",
    "        # Remove axis\n",
    "        axes[i,j].axis('off')\n",
    "\n",
    "        axes[i,j].imshow(imgs[:,idx].reshape((m,m)), cmap = \"gray\")\n",
    "    \n",
    "    # Plot\n",
    "\n",
    "    fig.tight_layout()\n",
    "    plt.show()\n"
   ]
  },
  {
   "cell_type": "markdown",
   "metadata": {},
   "source": [
    "We now plot the first 16 images of the $0$ class, which is accessed as `train[:,0,:]`. We can also acess for example the 2nd image of class $0$ as `train[:,0,1]`."
   ]
  },
  {
   "cell_type": "code",
   "execution_count": 6,
   "metadata": {},
   "outputs": [
    {
     "data": {
      "image/png": "[encoded data removed]",
      "text/plain": [
       "<Figure size 640x480 with 16 Axes>"
      ]
     },
     "metadata": {},
     "output_type": "display_data"
    }
   ],
   "source": [
    "# Plot first 16 images of the zero integer\n",
    "plotimgs(train[:,0,:], nplot = 4)"
   ]
  },
  {
   "cell_type": "code",
   "execution_count": 11,
   "metadata": {},
   "outputs": [
    {
     "data": {
      "image/png": "[encoded data removed]",
      "text/plain": [
       "<Figure size 640x480 with 1 Axes>"
      ]
     },
     "metadata": {},
     "output_type": "display_data"
    }
   ],
   "source": [
    "# Plot the second image of the 2 digit\n",
    "# Note that we have to reshape it to be 28 times 28!\n",
    "plt.imshow(train[:, 2, 0].reshape((28,28)), cmap = 'gray')\n",
    "plt.axis('off')\n",
    "plt.show()"
   ]
  },
  {
   "cell_type": "markdown",
   "metadata": {},
   "source": [
    "The below code extracts $n = 1000$ datapoints from the training data of a chosen class and stores it in a $(m,n)$ array called `A` that we can for example apply the SVD to."
   ]
  },
  {
   "cell_type": "code",
   "execution_count": 8,
   "metadata": {},
   "outputs": [
    {
     "name": "stdout",
     "output_type": "stream",
     "text": [
      "(784, 1000)\n"
     ]
    }
   ],
   "source": [
    "n = 1000 # Number of datapoints\n",
    "c = 0 # Class\n",
    "\n",
    "A = train[:,c,:n]\n",
    "\n",
    "print(A.shape) # Expect (784,n)"
   ]
  },
  {
   "cell_type": "markdown",
   "metadata": {},
   "source": [
    "<h1> Task 3 </h1>\n",
    "\n",
    "\n"
   ]
  },
  {
   "cell_type": "markdown",
   "metadata": {},
   "source": [
    "Below is code that that generates a test set. We then test this function and plot a few datapoints and their corresponding labels."
   ]
  },
  {
   "cell_type": "code",
   "execution_count": 9,
   "metadata": {},
   "outputs": [],
   "source": [
    "def generate_test(test, digits = [0,1,2], N = 800):\n",
    "    \"\"\"\n",
    "    Randomly generates test set.\n",
    "    input:\n",
    "        test: numpy array. Should be the test data loaded from file\n",
    "        digits: python list. Contains desired integers\n",
    "        N: int. Amount of test data for each class\n",
    "    output:\n",
    "        test_sub: (784,len(digits)*N) numpy array. Contains len(digits)*N images\n",
    "        test_labels: (len(digits)*N) numpy array. Contains labels corresponding to the images of test_sub\n",
    "    \"\"\"\n",
    "\n",
    "    assert N <= test.shape[2] , \"N needs to be smaller than or equal to the total amount of available test data for each class\"\n",
    "\n",
    "    assert len(digits)<= 10, \"List of digits can only contain up to 10 digits\"\n",
    "\n",
    "    # Arrays to store test set and labels\n",
    "    test_sub = np.zeros((test.shape[0], len(digits)*N))\n",
    "    test_labels = np.zeros(len(digits)*N)\n",
    "\n",
    "    # Iterate over all digit classes and store test data and labels\n",
    "    for i, digit in enumerate(digits):\n",
    "        test_sub[:, i*N:(i+1)*N] = test[:,digit,:]\n",
    "        test_labels[i*N:(i+1)*N] = digit\n",
    "\n",
    "    # Indexes to be shuffled \n",
    "    ids = np.arange(0,len(digits)*N)\n",
    "\n",
    "    # Shuffle indexes\n",
    "    np.random.shuffle(ids)\n",
    "\n",
    "    # Return shuffled data \n",
    "    return test_sub[:,ids], test_labels[ids]"
   ]
  },
  {
   "cell_type": "code",
   "execution_count": 10,
   "metadata": {},
   "outputs": [
    {
     "name": "stdout",
     "output_type": "stream",
     "text": [
      "Test data shape:  (784, 2400)\n",
      "Test labels shape:  (2400,)\n",
      "First 16 labels:  [0. 2. 0. 2. 1. 2. 2. 1. 1. 2. 0. 2. 2. 2. 0. 2.]\n"
     ]
    },
    {
     "data": {
      "image/png": "[encoded data removed]",
      "text/plain": [
       "<Figure size 640x480 with 16 Axes>"
      ]
     },
     "metadata": {},
     "output_type": "display_data"
    }
   ],
   "source": [
    "digits = [0,1,2]\n",
    "\n",
    "A_test, A_labels = generate_test(test, digits = digits, N = 800)\n",
    "print(\"Test data shape: \", A_test.shape) # Should be (784,2400)\n",
    "print(\"Test labels shape: \", A_labels.shape) # Should be (2400)\n",
    "print(\"First 16 labels: \", A_labels[:16])\n",
    "plotimgs(A_test, nplot = 4)"
   ]
  }
 ],
 "metadata": {
  "kernelspec": {
   "display_name": "base",
   "language": "python",
   "name": "python3"
  },
  "language_info": {
   "codemirror_mode": {
    "name": "ipython",
    "version": 3
   },
   "file_extension": ".py",
   "mimetype": "text/x-python",
   "name": "python",
   "nbconvert_exporter": "python",
   "pygments_lexer": "ipython3",
   "version": "3.9.7"
  },
  "orig_nbformat": 4,
  "vscode": {
   "interpreter": {
    "hash": "84d8cac4d95fdd2ab02498a6ec40a50cb9882041e67cb52e6d8bcfda00d28db9"
   }
  }
 },
 "nbformat": 4,
 "nbformat_minor": 2
}
