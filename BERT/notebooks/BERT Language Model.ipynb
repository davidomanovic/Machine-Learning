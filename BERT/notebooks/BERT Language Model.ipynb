{
 "cells": [
  {
   "cell_type": "markdown",
   "metadata": {},
   "source": [
    "# BERT Language Model (LM) with TensorFlow\n",
    "\n",
    "This project demonstrates fine-tuning a BERT model for language modeling using TensorFlow. \n",
    "Bidirectional encoder representations from transformers (BERT) is a language model introduced in October 2018 by researchers at Google. It learns to represent text as a sequence of vectors using self-supervised learning. It uses the encoder-only transformer architecture.\n"
   ]
  },
  {
   "cell_type": "code",
   "execution_count": 11,
   "metadata": {},
   "outputs": [
    {
     "name": "stderr",
     "output_type": "stream",
     "text": [
      "All model checkpoint layers were used when initializing TFBertForQuestionAnswering.\n",
      "\n",
      "All the layers of TFBertForQuestionAnswering were initialized from the model checkpoint at c:\\GitHub\\Machine-Learning\\BERT\\trained_model.\n",
      "If your task is similar to the task the model of the checkpoint was trained on, you can already use TFBertForQuestionAnswering for predictions without further training.\n"
     ]
    },
    {
     "name": "stdout",
     "output_type": "stream",
     "text": [
      "\n",
      "Question: \"What does natural language processing enable?\"\n",
      "Predicted Answer: building systems that learn from data\n"
     ]
    }
   ],
   "source": [
    "import tensorflow as tf\n",
    "from transformers import TFBertForQuestionAnswering, BertTokenizerFast\n",
    "import json\n",
    "import os\n",
    "\n",
    "# Set workspace_dir to the root of the project\n",
    "workspace_dir = os.path.abspath(os.path.join(os.getcwd(), '..'))\n",
    "\n",
    "# Define paths to the model and dataset\n",
    "model_path = os.path.join(workspace_dir, 'trained_model')\n",
    "dataset_path = os.path.join(workspace_dir, 'data', 'dataset.json')\n",
    "\n",
    "class QAInference:\n",
    "    def __init__(self, model_path):\n",
    "        \"\"\"\n",
    "        Initializes the model and tokenizer for inference.\n",
    "        \"\"\"\n",
    "        # Load the fine-tuned model and tokenizer\n",
    "        self.model = TFBertForQuestionAnswering.from_pretrained(model_path)\n",
    "        self.tokenizer = BertTokenizerFast.from_pretrained(model_path)\n",
    "\n",
    "    def answer_question(self, context, question):\n",
    "        \"\"\"\n",
    "        Given a context and a question, return the answer predicted by the model.\n",
    "        \"\"\"\n",
    "        # Tokenize the input question and context\n",
    "        inputs = self.tokenizer(question, context, return_tensors=\"tf\", truncation=True, padding=True)\n",
    "        \n",
    "        # Get model outputs\n",
    "        outputs = self.model(inputs)\n",
    "        \n",
    "        # Find the start and end logits of the predicted answer\n",
    "        start_scores = outputs.start_logits\n",
    "        end_scores = outputs.end_logits\n",
    "        \n",
    "        # Get the start and end positions of the answer\n",
    "        start_idx = tf.argmax(start_scores, axis=1).numpy()[0]\n",
    "        end_idx = tf.argmax(end_scores, axis=1).numpy()[0]\n",
    "        \n",
    "        # Extract the answer tokens and decode to string\n",
    "        answer_tokens = inputs[\"input_ids\"][0][start_idx:end_idx + 1]\n",
    "        answer = self.tokenizer.decode(answer_tokens, skip_special_tokens=True)\n",
    "        \n",
    "        return answer\n",
    "\n",
    "def main():\n",
    "    # Load dataset from JSON (just for the context)\n",
    "    with open(dataset_path, 'r') as file:\n",
    "        dataset = json.load(file)\n",
    "\n",
    "    # Initialize the QA model\n",
    "    qa_model = QAInference(model_path)\n",
    "\n",
    "    # Allow user to input a question\n",
    "    question = input(\"Enter your question: \")\n",
    "\n",
    "    # Use the first context from the dataset (or modify as needed)\n",
    "    context = dataset[0][\"context\"]\n",
    "\n",
    "    # Get the predicted answer for the given question and context\n",
    "    predicted_answer = qa_model.answer_question(context, question)\n",
    "\n",
    "    print(\"\\nQuestion:\", question)\n",
    "    print(\"Predicted Answer:\", predicted_answer)\n",
    "\n",
    "if __name__ == \"__main__\":\n",
    "    main()\n"
   ]
  }
 ],
 "metadata": {
  "kernelspec": {
   "display_name": "Python 3",
   "language": "python",
   "name": "python3"
  },
  "language_info": {
   "codemirror_mode": {
    "name": "ipython",
    "version": 3
   },
   "file_extension": ".py",
   "mimetype": "text/x-python",
   "name": "python",
   "nbconvert_exporter": "python",
   "pygments_lexer": "ipython3",
   "version": "3.12.7"
  }
 },
 "nbformat": 4,
 "nbformat_minor": 2
}
