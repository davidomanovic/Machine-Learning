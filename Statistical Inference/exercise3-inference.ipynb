{
 "cells": [
  {
   "cell_type": "markdown",
   "metadata": {},
   "source": [
    "# Exercise 3: Maximum likelihood estimation"
   ]
  },
  {
   "cell_type": "code",
   "execution_count": 72,
   "metadata": {},
   "outputs": [],
   "source": [
    "import numpy as np\n",
    "import matplotlib.pyplot as plt\n",
    "from scipy.optimize import minimize"
   ]
  },
  {
   "cell_type": "markdown",
   "metadata": {},
   "source": [
    "## Ex 1: Particle decay"
   ]
  },
  {
   "cell_type": "markdown",
   "metadata": {},
   "source": [
    "In this exercise, we will look numerically at the particle decay problem from Chapter 3.1.1 in the lecture notes.\n",
    "\n",
    "A radioactive source emits $n$ unstable particles. The particles are emitted at constant speed along the $x$ axis. For each particle, indexed by  $i\\in\\{1,\\dots,n\\}$, we mark the  position $x_i$ where it decays. Our detector however only detects decays between $x_{min}$ and $x_{max}$.\n",
    "\n",
    "The probability density of decaying at position $x$ is \n",
    "$$\n",
    "\\rho(x|\\lambda_*)=\\frac{e^{-x/\\lambda_*} }{\\lambda_* \\left(e^{-x_{min}/\\lambda_*}-e^{-x_{max}/\\lambda_*}\\right)}\n",
    "$$\n",
    "for an unknown parameter $\\lambda_*$.\n",
    "\n",
    "Given the dataset of $n$ measurements $\\mathbf x=(x_1,\\dots,x_n)$ our objective is to estimate $\\lambda_*$ to characterize our radioactive source.\n",
    "\n",
    "\n",
    "In our case we set $x_{min}=0.5,x_{max}=3,\\lambda_*=4$."
   ]
  },
  {
   "cell_type": "code",
   "execution_count": 2,
   "metadata": {},
   "outputs": [],
   "source": [
    "lambda_star=4 #value of the parameter that we want to estimate. Also said \"ground truth\".\n",
    "xmin=0.5\n",
    "xmax=3"
   ]
  },
  {
   "cell_type": "markdown",
   "metadata": {},
   "source": [
    "### Ex 1.1: simulating the particle decay"
   ]
  },
  {
   "cell_type": "markdown",
   "metadata": {},
   "source": [
    "Your first task is to simulate this physical system, namely to generate the dataset $x_1, x_2, \\dots, x_n$ given the true value $\\lambda_*$.\n",
    "\n",
    "To generate the data $\\pmb x$, you will use the so called *rejection method*. \n",
    "The idea is that the p.d.f. from which we want to sample is just a truncated exponential, i.e. an exponential with scale parameter $\\lambda_*$ in which we discard events in which $x < x_{\\rm min}$ or $x > x_{\\rm max}$.\n",
    "Thus, we can just generate exponential random numbers using `np.random.exponential` one by one. \n",
    "For each sample, we check if $x_{\\rm min} < x < x_{\\rm max}$. If this is the case, we keep this sample, otherwise we discard it. \n",
    "We iterate the procedure until we have $n$ valid measurements.\n",
    "\n",
    "**1.1.1**\n",
    "\n",
    "Write a function that takes as input $n$, $\\lambda_*$, $x_{\\rm min}$ and $x_{\\rm max}$ and generates the dataset as a lenght $n$ vector. "
   ]
  },
  {
   "cell_type": "code",
   "execution_count": 60,
   "metadata": {},
   "outputs": [],
   "source": [
    "def generate_dataset_decay(n, lambda_star, xmin, xmax):\n",
    "    # returns a length n numpy array with data samples\n",
    "    dataset = []\n",
    "    x = np.random.exponential(scale=lambda_star, size=n)\n",
    "    for i in range(n):\n",
    "        if ((x[i] > xmin) and (x[i] < xmax)):\n",
    "            dataset.append(x[i])\n",
    "    return np.array(dataset)"
   ]
  },
  {
   "cell_type": "markdown",
   "metadata": {},
   "source": [
    "**1.1.2**\n",
    "\n",
    "Generate a dataset with $x_{min}=0.5,x_{max}=3,\\lambda_*=4$. and $n=2000$ and plot its histogram using matplotlib. \n",
    "Use ```density = True``` (to have the histrogram represent a p.d.f.) and reasonable limits for the x-axis.\n",
    "\n",
    "You will observe the truncations at $x_{min}$ and $x_{max}$ and (albeit very noisily) the exponential decay of the distribution."
   ]
  },
  {
   "cell_type": "code",
   "execution_count": 68,
   "metadata": {},
   "outputs": [
    {
     "data": {
      "image/png": "[encoded data removed]",
      "text/plain": [
       "<Figure size 640x480 with 1 Axes>"
      ]
     },
     "metadata": {},
     "output_type": "display_data"
    }
   ],
   "source": [
    "n = 2000\n",
    "dataset_decay = generate_dataset_decay(n, lambda_star, xmin, xmax)\n",
    "x = np.linspace(xmin, xmax, n)\n",
    "P = lambda x: np.exp(-x/lambda_star)/(lambda_star *(np.exp(-xmin/lambda_star)-np.exp(-xmax/lambda_star)))\n",
    "\n",
    "# plot the dataset\n",
    "plt.hist(dataset_decay, density=True)\n",
    "plt.plot(x, P(x))\n",
    "plt.show()"
   ]
  },
  {
   "cell_type": "markdown",
   "metadata": {},
   "source": [
    "### Ex 1.2: computing the maximum likelihood estimator"
   ]
  },
  {
   "cell_type": "markdown",
   "metadata": {},
   "source": [
    "In the lecture notes, we derived the maximum likelihood estimator for $\\lambda_*$ for a fixed interval, but the general derivation for any $x_{min},x_{max}$ is easily generalized as \n",
    "$$\n",
    "\\hat{\\lambda} \n",
    "    = \\arg\\max_{\\lambda} \\frac{e^{-\\frac{1}{\\lambda n}\\sum_{i=1}^n x_i} }{\\lambda \\left( e^{-x_{\\rm min} / \\lambda} - e^{-x_{\\rm max} / \\lambda} \\right)}  \n",
    "    = \\arg\\max_{\\lambda} \\mathcal{L}(\\lambda)\n",
    "    \\, .\n",
    "$$\n",
    "\n",
    "It is easier to work with the negative normalized log-likelihood $- \\frac{1}{n} \\log \\mathcal{L}(\\lambda)$, which needs to be minimised (due to the negative sign), giving\n",
    "$$\n",
    "    \\hat \\lambda=\\arg\\min_\\lambda \\ell(\\lambda)\n",
    "$$\n",
    "where\n",
    "$$\n",
    "\\ell(\\lambda) =\n",
    "\\log\\lambda + \\log\\left(e^{-x_{min}/\\lambda}-e^{-x_{max}/\\lambda}\\right) + \\frac{1}{\\lambda} \\frac{1}{n}\\sum_{i=1}^n x_i \\, .\n",
    "$$\n",
    "\n",
    "**1.2.1**\n",
    "Complete the code below to implement the $\\ell(x)$ function. Notice that  ```lambda``` is a reserved keyword in python, so we use ```l``` to denote the variable $\\lambda$ from the formulas in the function definition."
   ]
  },
  {
   "cell_type": "code",
   "execution_count": 96,
   "metadata": {},
   "outputs": [],
   "source": [
    "def ell(l, xmin, xmax, dataset): \n",
    "    return np.log(l) + np.log(np.exp(-xmin/l)-np.exp(-xmax/l)) + (1/(l*len(dataset)))*(sum(dataset))"
   ]
  },
  {
   "cell_type": "markdown",
   "metadata": {},
   "source": [
    "**1.2.2** Use the function ```scipy.optimize.minimize``` to numerically minimize $\\ell(\\lambda)$ for the dataset generated in 1.1.2 and compute the maximum likelihood estimate you obtain here, $\\hat{\\lambda}$. Use ```0.1``` for the initial condition of the minimization. \n",
    "\n",
    "Hint: ```scipy.optimize.minimize``` expects a function of the form ```f(l)```, while our function is of the form ```f(l, params)```. \n",
    "This happens often.\n",
    "The way to deal with this is through lambda functions, also called anonymous functions:\n",
    "```\n",
    "    scipy.optimize.minimize(lambda l: f(l, params), ...)\n",
    "```\n",
    "The keyword ```lambda``` introduces the anonymous function, ```l``` is the variable of the function, and whatever comes after the semicolon `:` is the body of the function.\n",
    "You can think of the expression \n",
    "```\n",
    "    lambda l: f(l, params)\n",
    "```\n",
    "as a shorthand for\n",
    "```\n",
    "    def f2(l):\n",
    "        return f(l, params)\n",
    "```\n",
    "with the advantages of\n",
    "\n",
    "1. not giving a name (```f2``` in the example) to a function that you will use only once.\n",
    "2. Not defining a function in which we hardcode a global variable (```dataset``` in the example)."
   ]
  },
  {
   "cell_type": "code",
   "execution_count": 97,
   "metadata": {},
   "outputs": [
    {
     "name": "stdout",
     "output_type": "stream",
     "text": [
      "The estimator:  3.6400956725300126\n"
     ]
    }
   ],
   "source": [
    "lambda_hat = minimize(lambda l: ell(l, xmin, xmax, dataset_decay), x0 = 0.1)\n",
    "print(\"The estimator: \", lambda_hat.x[0])"
   ]
  },
  {
   "cell_type": "markdown",
   "metadata": {},
   "source": [
    "**1.2.3** We want to understand the likelihood function better, and understand whether the estimate $\\hat{\\lambda}$ from the previous minimization is close to $\\lambda^*$. \n",
    "\n",
    "To do so, plot the likelihood function $\\ell(\\lambda)$ as a function of $\\lambda$ for the given dataset. \n",
    "Additionaly, plot a vertical line at the MLE estimator $x = \\hat{\\lambda}$ that you computed in 1.2.2, and another vertical line at the value $x = \\lambda_*$.\n",
    "\n",
    "Don't forget to put a legend!"
   ]
  },
  {
   "cell_type": "code",
   "execution_count": 109,
   "metadata": {},
   "outputs": [
    {
     "data": {
      "image/png": "[encoded data removed]",
      "text/plain": [
       "<Figure size 640x480 with 1 Axes>"
      ]
     },
     "metadata": {},
     "output_type": "display_data"
    }
   ],
   "source": [
    "# plot ell and its minimum, compare to the ground truth\n",
    "l_s = np.linspace(0.1, lambda_star + 1, n)\n",
    "likelihood = []\n",
    "for l in l_s:\n",
    "    likelihood.append(ell(l, xmin, xmax, dataset_decay))\n",
    "\n",
    "plt.plot(l_s, likelihood)\n",
    "plt.axvline(lambda_star, label=r\"$\\lambda^*$\", color=\"black\")\n",
    "plt.axvline(lambda_hat.x[0], label=r\"$\\hat \\lambda$\", color=\"red\")\n",
    "plt.legend()\n",
    "plt.show()\n"
   ]
  },
  {
   "cell_type": "markdown",
   "metadata": {},
   "source": [
    "## Ex 2: The lighthouse"
   ]
  },
  {
   "cell_type": "markdown",
   "metadata": {},
   "source": [
    "A lighthouse is placed on a small island in front of the coastline. \n",
    "In a coordinate system in which the coast is the $x$ axis, and the $y$ axis points towards open sea, the island is at position $(\\alpha_*, 1)$.\n",
    "The lighthouse emits a series of short flashes at random intervals and hence in random directions $\\theta$ (uniformly at random over the full angle of $2\\pi$, because it keeps turning around).\n",
    "These pulses are intercepted on the coast by photo-detectors that record only the fact that a flash has occurred, but not the angle from which it came.\n",
    "\n",
    "In this exercise, we will consider the estimation task of finding the true position $\\alpha_*$ of the lighthouse along the coastline, assuming that \n",
    "- the angle $\\theta$ at which each light pulse is emitted is a uniformly distributed random variable on the interval $(-\\pi/2, \\pi/2)$ (the angle is measured with respect to the negative-vertical axis, see figure)\n",
    "- a dataset of $n$ detected positions $x_1, x_2, \\dots, x_n$ is given (each detection is statistically independent from the others)."
   ]
  },
  {
   "cell_type": "markdown",
   "metadata": {},
   "source": [
    "![](lighthouse.png)"
   ]
  },
  {
   "cell_type": "markdown",
   "metadata": {},
   "source": [
    "### Ex 2.1: simulating the lighthouse, i.e. generating the dataset of measurements"
   ]
  },
  {
   "cell_type": "markdown",
   "metadata": {},
   "source": [
    "Your first task is to simulate this physical system, namely to generate the dataset $x_1, x_2, \\dots, x_n$ given the true value $\\alpha_*$.\n",
    "To do this, we are going to generate randomly the angle $\\theta_i$ at which a light pulse is emitted and we will compute the corresponding detection position $x_i$ as\n",
    "$$\n",
    "    x_i = \\tan(\\theta_i) + \\alpha_* \\, .\n",
    "$$"
   ]
  },
  {
   "cell_type": "markdown",
   "metadata": {},
   "source": [
    "**2.1.1** Write a function that takes as input $n$ and $\\alpha_*$ and generates the dataset as a lenght $n$ vector. Recall that each angle is independent from the others, and uniformly distributed in the interval $(-\\pi/2, \\pi/2)$."
   ]
  },
  {
   "cell_type": "code",
   "execution_count": null,
   "metadata": {},
   "outputs": [],
   "source": [
    "def generate_dataset(alpha_star, n):\n",
    "    return # a vector of n samples"
   ]
  },
  {
   "cell_type": "markdown",
   "metadata": {},
   "source": [
    "**2.1.2** Generate a dataset with $\\alpha_* = 20$ and $n=10000$ and plot its histogram. \n",
    "Set manually the binssmall enough and the y axis to log-scale to be able to interpret the diagram..\n",
    "Compare to the value of  $x = \\alpha_*$  using a vertical line.\n",
    "\n",
    "Don't forget to add a legend and labels."
   ]
  },
  {
   "cell_type": "code",
   "execution_count": null,
   "metadata": {},
   "outputs": [],
   "source": []
  },
  {
   "cell_type": "markdown",
   "metadata": {},
   "source": [
    "**2.1.3** Answer the following questions.\n",
    "\n",
    "1. Around which value of $x$ is the histogram peaked? Motivate your answer.\n",
    "2. Which values of the angle $\\theta$ correspond to the extreme values (the rare outliers)?"
   ]
  },
  {
   "cell_type": "markdown",
   "metadata": {},
   "source": [
    "**2.1.4** Prove that the probability density function of the random variable $x(\\theta)$ is given by\n",
    "$$\n",
    "    \\rho_{x}(x | \\alpha_*) = \\frac{1}{\\pi(1+(x - \\alpha_*)^2)} \\, .\n",
    "$$\n",
    "Hints:\n",
    "1. Write down the p.d.f. of the random variable $\\theta$, recalling that it is uniformly distributed on the interval $(-\\pi/2, \\pi/2)$.\n",
    "2. Use the change of variable formula for probability density functions (see the Probability and Statistics course)."
   ]
  },
  {
   "cell_type": "markdown",
   "metadata": {},
   "source": [
    "**2.1.5** \n",
    "Reproduce the plot you did in 2.1.2. \n",
    "This time, use the option ```density = True``` in the histogram (to plot probabilities instead of counts on the y axis), and compare to the p.d.f. $\\rho_x$ you derived at the previous point on top of it.\n",
    "Plot from $x=-100$ to $x=100$."
   ]
  },
  {
   "cell_type": "code",
   "execution_count": null,
   "metadata": {},
   "outputs": [],
   "source": [
    "# plot"
   ]
  },
  {
   "cell_type": "markdown",
   "metadata": {},
   "source": [
    "### Ex 2.2: estimation of $\\alpha_*$ through maximum likelihood"
   ]
  },
  {
   "cell_type": "markdown",
   "metadata": {},
   "source": [
    "In this section, we implement the maximum likelihood estimator for $\\alpha$, and use it to estimate $\\alpha_*$ in the given dataset."
   ]
  },
  {
   "cell_type": "markdown",
   "metadata": {},
   "source": [
    "**2.2.1** \n",
    "Use ```np.load``` to load the file \"data-lighthouse.npy\" into a variable called ```dataset```. \n",
    "This will be your set of observations for this part of the exercise, in which we will try to estimate the value $\\alpha_*$ used to generate the dataset. \n",
    "How many measurements does it contain?"
   ]
  },
  {
   "cell_type": "code",
   "execution_count": null,
   "metadata": {},
   "outputs": [],
   "source": [
    "# use np.load!"
   ]
  },
  {
   "cell_type": "markdown",
   "metadata": {},
   "source": [
    "**2.2.2** Prove that the maximum likelihood estimator (MLE) $\\hat{\\alpha}$ is given by\n",
    "$$\n",
    "\\hat{\\alpha} = \\arg\\min_{\\alpha} \\sum_{i=1}^n \\log (1+(x_i - \\alpha)^2) = \\arg\\min_{\\alpha} f(\\alpha, \\{x_i\\}_{i=1}^n)\n",
    "$$\n",
    "Hints: \n",
    "- you can follow the steps we did for the particle decay in the lecture notes, but instead for the probability density you proved before\n",
    "- It is useful to maximise the log-likelihood instead of the likelihood to convert products into sums (recall that logs do not alter the position of maxima). \n",
    "- $\\max[f(x)] = \\min[- f(x)]$."
   ]
  },
  {
   "cell_type": "markdown",
   "metadata": {},
   "source": [
    "**2.2.3** Write a function that takes as input $\\alpha$ and the dataset (a length $n$ vector) and computes $f(\\alpha, \\{x_i\\}_{i=1}^n)$."
   ]
  },
  {
   "cell_type": "code",
   "execution_count": null,
   "metadata": {},
   "outputs": [],
   "source": [
    "def f(a, dataset):\n",
    "    return ..."
   ]
  },
  {
   "cell_type": "markdown",
   "metadata": {},
   "source": [
    "**2.2.4** Plot the function $f(\\alpha, \\{x_i\\}_{i=1}^n)$ as a function of $\\alpha$ and the given dataset. Plot it for $-10 < \\alpha < 30$.\n",
    "What can you deduce about the value of $\\hat{\\alpha}$ from the plot?"
   ]
  },
  {
   "cell_type": "code",
   "execution_count": null,
   "metadata": {},
   "outputs": [],
   "source": [
    "# plot"
   ]
  },
  {
   "cell_type": "markdown",
   "metadata": {},
   "source": [
    "**2.2.5** Minimize numerically $f$ for your dataset, e.g. with `scipy.optimize` and compute the MLE. Use ```x0=0``` for the initial condition of the minimization. Print the MLE that you obtain."
   ]
  },
  {
   "cell_type": "code",
   "execution_count": null,
   "metadata": {},
   "outputs": [],
   "source": [
    "# minimize f"
   ]
  },
  {
   "cell_type": "markdown",
   "metadata": {},
   "source": [
    "**2.2.6** \n",
    "Reproduce the plot you did in 1.2.3. \n",
    "Additionaly, plot a vertical line at  $x = \\hat{\\alpha}$ and add a legend. \n",
    "\n",
    "Are you convinced that you computed a good estimate?"
   ]
  },
  {
   "cell_type": "code",
   "execution_count": null,
   "metadata": {},
   "outputs": [],
   "source": [
    "# plot"
   ]
  }
 ],
 "metadata": {
  "kernelspec": {
   "display_name": "Python 3 (ipykernel)",
   "language": "python",
   "name": "python3"
  },
  "language_info": {
   "codemirror_mode": {
    "name": "ipython",
    "version": 3
   },
   "file_extension": ".py",
   "mimetype": "text/x-python",
   "name": "python",
   "nbconvert_exporter": "python",
   "pygments_lexer": "ipython3",
   "version": "3.12.6"
  }
 },
 "nbformat": 4,
 "nbformat_minor": 2
}
