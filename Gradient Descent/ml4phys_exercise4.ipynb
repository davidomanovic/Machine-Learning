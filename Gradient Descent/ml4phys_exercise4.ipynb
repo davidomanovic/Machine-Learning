{
  "cells": [
    {
      "cell_type": "code",
      "execution_count": 1,
      "metadata": {
        "id": "LezvU_JFKPIb"
      },
      "outputs": [],
      "source": [
        "import numpy as np\n",
        "from sklearn.datasets import fetch_california_housing\n",
        "from sklearn.linear_model import LinearRegression, Ridge, Lasso\n",
        "import sklearn.linear_model as linear_model\n",
        "from sklearn.metrics import mean_squared_error\n",
        "from sklearn.model_selection import train_test_split\n",
        "import sklearn.preprocessing as preprocessing\n",
        "import matplotlib.pyplot as plt\n",
        "import pandas as pd"
      ]
    },
    {
      "cell_type": "markdown",
      "metadata": {
        "id": "AIOhMmjKKTPs"
      },
      "source": [
        "# 1 Polynomial Regression visited again\n",
        "\n",
        "In this exercise we will have a look again at overfitting and underfitting using the example of a polynomial regression.\n"
      ]
    },
    {
      "cell_type": "code",
      "execution_count": null,
      "metadata": {
        "id": "_xLwEsVtKTEL"
      },
      "outputs": [],
      "source": [
        "# This function generates data from a polynome, possibly with noise\n",
        "def generate_polynome_data(polynome, noise_std, n,bound=2):\n",
        "    \"\"\"\n",
        "    arguments:\n",
        "        - polynome  : list of coefficients representing the polynom (polynome[i] multiplies X^i)\n",
        "        - noise_std : standard deviation of the gaussian noise\n",
        "        - n         : number of data points\n",
        "        - bound     : for points x the sampling inverval is +-bound\n",
        "    returns:\n",
        "        - (X, y)    : list of n points with y = poly(x) + gaussian noise\n",
        "    \"\"\"\n",
        "    rs = np.random.RandomState(51)\n",
        "    degree  = len(polynome) - 1\n",
        "    samples = rs.uniform(-bound, bound, size=n)\n",
        "    xs      = np.copy(samples)\n",
        "    samples = np.ones((n, degree + 1)).T * samples\n",
        "    powers  = np.power(samples.T, np.arange(0, degree + 1, 1))\n",
        "    return xs.reshape(-1, 1), np.sum(powers * polynome, axis = 1) + rs.normal(0, noise_std, size=n)"
      ]
    },
    {
      "cell_type": "markdown",
      "metadata": {
        "id": "fYggcS-iUg1q"
      },
      "source": [
        "## 1.1 Noiseless data\n",
        "\n",
        "Generate _noiseless_ points $x_1, ... x_n$ with few samples (say $5 \\leqslant n \\leqslant 10$) from the polynomial $y_i = x_i^2  + 0.5 x_i^3$.\n",
        "\n",
        "Plot the resulting data."
      ]
    },
    {
      "cell_type": "code",
      "execution_count": null,
      "metadata": {
        "id": "MrL0B_lUKTBq"
      },
      "outputs": [],
      "source": [
        "# Create 6 noiseless datapoints within the training interval [+2,-2]\n",
        "X_train, y_train = ... # TODO"
      ]
    },
    {
      "cell_type": "code",
      "execution_count": null,
      "metadata": {
        "colab": {
          "base_uri": "https://localhost:8080/",
          "height": 279
        },
        "id": "INC5GWlNQvAT",
        "outputId": "208d076c-e89c-4331-b333-e745599519dd"
      },
      "outputs": [
        {
          "data": {
            "image/png": "[encoded data removed]",
            "text/plain": [
              "<Figure size 432x288 with 1 Axes>"
            ]
          },
          "metadata": {
            "needs_background": "light"
          },
          "output_type": "display_data"
        }
      ],
      "source": [
        "# Show the training data in a scatter plot\n",
        "... # TODO\n",
        "plt.xlabel('x')\n",
        "plt.ylabel('poly(x)');"
      ]
    },
    {
      "cell_type": "markdown",
      "metadata": {
        "id": "Yaaz_XX1bZi-"
      },
      "source": [
        "We want to create some data for testing too, say 25 datapoints."
      ]
    },
    {
      "cell_type": "code",
      "execution_count": null,
      "metadata": {
        "id": "NFTRqawrO30F"
      },
      "outputs": [],
      "source": [
        "# Create some test data\n",
        "test_bound  = 2\n",
        "n = 25\n",
        "X_test, y_test = ... # TODO"
      ]
    },
    {
      "cell_type": "markdown",
      "metadata": {
        "id": "zBQF-qFHU3QB"
      },
      "source": [
        "## 1.2 Polynomials of different degrees as estimator\n",
        "Run Linear regression with no regulariser, but generate polynomial features of degree d from the input data $x_i$ using [`PolynomialFeatures`](https://scikit-learn.org/stable/modules/generated/sklearn.preprocessing.PolynomialFeatures.html) from sklearn. This way you can obtain a Polynomial Regression.\n",
        "\n",
        "Then use the model as a predictor for the plot, train and test inputs X."
      ]
    },
    {
      "cell_type": "code",
      "execution_count": null,
      "metadata": {
        "id": "CYACZ6d_Y2Nr"
      },
      "outputs": [],
      "source": [
        "# Create some data to plot the estimator\n",
        "plot_bound  = 3.5\n",
        "X_plot = np.linspace(-plot_bound, plot_bound, 50).reshape((-1,1))"
      ]
    },
    {
      "cell_type": "code",
      "execution_count": null,
      "metadata": {
        "colab": {
          "base_uri": "https://localhost:8080/",
          "height": 370
        },
        "id": "dmt7_oasOLMN",
        "outputId": "50e73e96-303e-4d7b-cbb4-e163695e995d"
      },
      "outputs": [
        {
          "name": "stdout",
          "output_type": "stream",
          "text": [
            "Degree 1 : training error is 3.6241212940895444, test error is 6.306753479032214\n",
            "Degree 3 : training error is 1.3391885469243657e-15, test error is 2.389641287401268e-15\n",
            "Degree 5 : training error is 6.771452645544412e-14, test error is 6.5353526433787e-13\n",
            "Degree 7 : training error is 1.3274711585551136e-14, test error is 0.20714500314189563\n",
            "Degree 9 : training error is 8.647098019618493e-15, test error is 0.4625312404506581\n"
          ]
        },
        {
          "data": {
            "image/png": "[encoded data removed]",
            "text/plain": [
              "<Figure size 432x288 with 1 Axes>"
            ]
          },
          "metadata": {
            "needs_background": "light"
          },
          "output_type": "display_data"
        }
      ],
      "source": [
        "# fit a model for every odd polynomial degree between 1 and 10\n",
        "degrees = np.arange(1, 10, 2)\n",
        "\n",
        "for d in degrees:\n",
        "    # add more features to the data input, up until degree d\n",
        "    # TODO\n",
        "    X_train_features = ...\n",
        "    X_test_features = ...\n",
        "    X_plot_features = ...\n",
        "\n",
        "    # do not use a regularizer for now, but only fit a linear regression\n",
        "    lr = linear_model.Ridge(alpha = 0.0, fit_intercept=False)\n",
        "    lr.fit(X_train_features,y_train)\n",
        "\n",
        "    # Predict the targets for train, test and plot data\n",
        "    # TODO\n",
        "    y_train_pred = ...\n",
        "    y_test_pred = ...\n",
        "    y_plot_pred = ...\n",
        "\n",
        "    # Show the MSE\n",
        "    print(f'Degree {d} : training error is {np.linalg.norm(y_train - y_train_pred)}, test error is {np.linalg.norm(y_test - y_test_pred)}')\n",
        "\n",
        "    plt.plot(X_plot, y_plot_pred, label=f'degree = {d}')\n",
        "\n",
        "# Show the data\n",
        "plt.scatter(X_train, y_train, c='k', label='training point')\n",
        "plt.plot(X_plot, X_plot**2+0.5 *X_plot**3,c='k',linestyle=':' ,label='true cruve')\n",
        "plt.ylim(np.min(y_train) - 10, np.max(y_train) + 10)\n",
        "plt.legend();"
      ]
    },
    {
      "cell_type": "markdown",
      "metadata": {
        "id": "gu0tkiHWVqVa"
      },
      "source": [
        "1. What curves offer the best fit to the training data?\n",
        "2. Which estimator is underfitting? Which one is overfitting?\n",
        "3. In a real world setting, when the black dotted curve is not known, which model would you choose for production?"
      ]
    },
    {
      "cell_type": "markdown",
      "metadata": {
        "id": "K0yUQCe5VloI"
      },
      "source": [
        "## 1.3 Vary the noise levels and regularizers of the training data"
      ]
    },
    {
      "cell_type": "code",
      "execution_count": null,
      "metadata": {
        "id": "vWFWRFoLWGyJ"
      },
      "outputs": [],
      "source": [
        "# lets create a method so we don't need to repeat the code\n",
        "def show_poly_results(alpha, noise_std, n):\n",
        "  \"\"\"\n",
        "  Repeat the construction of the plot above for different degrees, with the parameters:\n",
        "\n",
        "  - alpha: regularizer parameter for the ridge\n",
        "  - noise_std: noise of the training data\n",
        "  - n: number of training points\n",
        "  \"\"\"\n",
        "\n",
        "  # TODO\n",
        "  pass"
      ]
    },
    {
      "cell_type": "code",
      "execution_count": null,
      "metadata": {
        "id": "FZYnfrvaSs4B"
      },
      "outputs": [],
      "source": [
        "show_poly_results(alpha=0.0, noise_std=0.5,n=5)"
      ]
    },
    {
      "cell_type": "code",
      "execution_count": null,
      "metadata": {
        "id": "mk2dZmgDWuNU"
      },
      "outputs": [],
      "source": [
        "show_poly_results(alpha=5.5, noise_std=0.5, n=5)"
      ]
    },
    {
      "cell_type": "markdown",
      "metadata": {
        "id": "p-S5UoC9ZlCJ"
      },
      "source": [
        "1. What curves offer the best fit to the training data?\n",
        "2. Which estimator is underfitting? Which one is overfitting?\n",
        "3. In a real world setting, when the black dotted curve is not known, which model would you choose for production?"
      ]
    },
    {
      "cell_type": "markdown",
      "metadata": {
        "id": "yRWrZhjSbXZm"
      },
      "source": [
        "# 2:  SGD for Linear Regression on a health dataset\n",
        "\n",
        "In this exercise we want to repeat how to load a real-world dataset.\n",
        "\n",
        "Then, we want to implement SGD to infer the parameters and compare this with the LinearRegression classes results from sklearn."
      ]
    },
    {
      "cell_type": "code",
      "execution_count": null,
      "metadata": {
        "id": "vlryGjH4YhkD"
      },
      "outputs": [],
      "source": [
        "# Import diabetes dataset from scikit-learn toy-dataset examples\n",
        "from sklearn.datasets import load_diabetes"
      ]
    },
    {
      "cell_type": "code",
      "execution_count": null,
      "metadata": {
        "id": "l4SutdQg880n"
      },
      "outputs": [],
      "source": [
        "# Load boston dataset\n",
        "diabetes = load_diabetes()\n",
        "\n",
        "# Check what it contains\n",
        "print(diabetes.DESCR)"
      ]
    },
    {
      "cell_type": "code",
      "execution_count": null,
      "metadata": {
        "colab": {
          "base_uri": "https://localhost:8080/"
        },
        "id": "mvUGbhm38-tB",
        "outputId": "7c5f0a5e-2548-4178-8e63-94a9989f68b3"
      },
      "outputs": [
        {
          "name": "stdout",
          "output_type": "stream",
          "text": [
            "the dimension of X is (n, d)= (442, 10) the dimension of y is (n,)= (442,)\n"
          ]
        }
      ],
      "source": [
        "# Extract the dataset\n",
        "X = diabetes.data\n",
        "y = diabetes.target\n",
        "# print the dimension of the X matrix and the y vector\n",
        "print(\"the dimension of X is (n, d)=\",X.shape, \"the dimension of y is (n,)=\",y.shape)"
      ]
    },
    {
      "cell_type": "code",
      "execution_count": null,
      "metadata": {
        "colab": {
          "base_uri": "https://localhost:8080/",
          "height": 645
        },
        "id": "1BNMzvud9CdD",
        "outputId": "efe527fa-e6d3-4c66-8bd9-0824abd86234"
      },
      "outputs": [
        {
          "data": {
            "image/png": "[encoded data removed]",
            "text/plain": [
              "<Figure size 720x720 with 4 Axes>"
            ]
          },
          "metadata": {
            "needs_background": "light"
          },
          "output_type": "display_data"
        }
      ],
      "source": [
        "# visualization of the dataset\n",
        "import pandas as pd\n",
        "import seaborn as sns\n",
        "df = pd.DataFrame(X, columns = [\"age\", \"sex\", \"body_mass\", \"blood_pressure\", \"total_serum_cholesterol\", \"low_densisty_lipoproteins\", \"high_density_lipoproteins\", \"total_cholesterol\", \"tryglicerides_level\", \"blood_sugar_level\"])\n",
        "df['target'] = y\n",
        "corr_mat = df.corr() # compute the correlation matrix of the features vectors\n",
        "sns.clustermap(corr_mat, vmax = 0.8); # plot a clustered heatmap"
      ]
    },
    {
      "cell_type": "markdown",
      "metadata": {
        "id": "Cfdmc3GkgEJ0"
      },
      "source": [
        "## 2.1 Normalization\n",
        "[Normalize](https://scikit-learn.org/stable/modules/generated/sklearn.preprocessing.normalize.html) the input data using the L2 norm, as well as the target data by the maximum value."
      ]
    },
    {
      "cell_type": "code",
      "execution_count": null,
      "metadata": {
        "id": "tqdpChAsUQMw"
      },
      "outputs": [],
      "source": [
        "# TODO overwrite X,y with normalized versions of the original data\n",
        "X = ...\n",
        "y = ..."
      ]
    },
    {
      "cell_type": "code",
      "execution_count": null,
      "metadata": {
        "id": "ua_rBe7IJ_h5"
      },
      "outputs": [],
      "source": [
        "# Split the data\n",
        "X_train, X_validation, y_train, y_validation = train_test_split(X, y, test_size = 0.2, random_state = 14)\n",
        "X_train, X_test, y_train, y_test = train_test_split(X_train, y_train, test_size = 0.3, random_state = 14)"
      ]
    },
    {
      "cell_type": "markdown",
      "metadata": {
        "id": "--JJrC4wDkvE"
      },
      "source": [
        "## 2.2 Implementing gradients for Linear Regression\n",
        "\n",
        "The model we consider is $\\hat{y} = w x + c$.\n",
        "\n",
        "We need to calculate the gradients for the training dataset $X$ of the loss\n",
        "$L(w,c) = \\frac{1}{2n}\\sum_{x_i \\in X}(y_i-\\hat{y_i})^2 $\n",
        "\n",
        "What are the gradients?\n",
        "\n",
        "- $\\frac{\\partial L(w,c)}{\\partial w} = ...$\n",
        "- $\\frac{\\partial L(w,c)}{\\partial c} = ...$\n",
        "\n",
        "Implement them below."
      ]
    },
    {
      "cell_type": "code",
      "execution_count": null,
      "metadata": {
        "id": "LegAO75e9XY_"
      },
      "outputs": [],
      "source": [
        "def grad_w(X,y,w,c):\n",
        "  # outputs parital L(w,c)/ partial w\n",
        "  y_pred = (w @ X.T + c)\n",
        "  # TODO\n",
        "  return ..."
      ]
    },
    {
      "cell_type": "code",
      "execution_count": null,
      "metadata": {
        "id": "D3DpUg3SIL-W"
      },
      "outputs": [],
      "source": [
        "def grad_c(X,y,w,c):\n",
        "  # outputs parital L(w,c)/ partial c\n",
        "  y_pred = (w @ X.T + c)\n",
        "  # TODO\n",
        "  return ..."
      ]
    },
    {
      "cell_type": "markdown",
      "metadata": {
        "id": "R7OWD7kDuc_O"
      },
      "source": [
        "Compute the train and test error.\n",
        "Update the parameters w,c for each gradient step according to the learning rate."
      ]
    },
    {
      "cell_type": "code",
      "execution_count": null,
      "metadata": {
        "id": "FsnscJ9rGunO"
      },
      "outputs": [],
      "source": [
        "# Set up stochasic batch gradient descent\n",
        "BATCHSIZE = 16\n",
        "EPOCHS = 400\n",
        "lr = 0.15 # set the learning rate\n",
        "\n",
        "# set initial values for the parameters\n",
        "w = np.random.RandomState(seed=43).randn(X_train.shape[1])\n",
        "c = 0\n",
        "\n",
        "\n",
        "MSE_test = []\n",
        "MSE_train = []\n",
        "\n",
        "# for several epochs (= runs over complete training data)\n",
        "for e in range(EPOCHS):\n",
        "\n",
        "  # TODO\n",
        "  # compute current errors on test and train\n",
        "  MSE_train.append(...)\n",
        "  MSE_test.append(...)\n",
        "\n",
        "  # split the training set into batches\n",
        "  for b in range(0,((X_train.shape[0]//BATCHSIZE)-1)*BATCHSIZE,BATCHSIZE):\n",
        "\n",
        "    X_batch = X_train[b:b+BATCHSIZE]\n",
        "    y_batch = y_train[b:b+BATCHSIZE]\n",
        "\n",
        "    # TODO\n",
        "    # run a gradient step on every batch\n",
        "    w_ = ...\n",
        "    c_ = ...\n",
        "\n",
        "    w = w_\n",
        "    c = c_\n",
        "\n",
        "# plot the resulting learning curve\n",
        "plt.plot(np.nan_to_num(MSE_train,nan=1000.0),label='train')\n",
        "plt.plot(np.nan_to_num(MSE_test,nan=1000.0),label='test')\n",
        "plt.xlabel('epochs')\n",
        "plt.ylabel('MSE')\n",
        "plt.legend()\n",
        "plt.yscale('log')\n",
        "print(f'SGD = MSE test {MSE_test[-1]}')"
      ]
    },
    {
      "cell_type": "code",
      "execution_count": null,
      "metadata": {
        "id": "TQxbUWAXUDPD"
      },
      "outputs": [],
      "source": [
        "# Show the predictions\n",
        "plt.plot((w @ X_test.T + c), y_test, '.')\n",
        "plt.xlabel('labels predicted by the model')\n",
        "plt.ylabel('true test labels')"
      ]
    },
    {
      "cell_type": "markdown",
      "metadata": {
        "id": "WjDQNM3ngs1g"
      },
      "source": [
        "1. Explain in your own words what information the learning curve gives to you."
      ]
    },
    {
      "cell_type": "markdown",
      "metadata": {
        "id": "TJc7647MjcYx"
      },
      "source": [
        "## 2.3 Loss Curve Quiz\n",
        "\n",
        "What is wrong?\n",
        "![L1](https://developers.google.com/static/machine-learning/testing-debugging/images/metric-curve-ex03.svg)   ![L2](https://developers.google.com/static/machine-learning/testing-debugging/images/metric-curve-ex02.svg)     ![L3](https://developers.google.com/static/machine-learning/testing-debugging/images/metric-curve-ex01.svg\n",
        ")\n",
        "\n",
        "\n"
      ]
    },
    {
      "cell_type": "markdown",
      "metadata": {
        "id": "JtwgA-hMTV_k"
      },
      "source": [
        "## 2.4 Comparison with Library solution\n",
        "\n",
        "Why should we (not) use sklearn instead?"
      ]
    },
    {
      "cell_type": "code",
      "execution_count": null,
      "metadata": {
        "id": "TpWuNtORKl4X"
      },
      "outputs": [],
      "source": [
        "# plot the learning curve fot the sklearn Ridge estimator\n",
        "MSE_train = []\n",
        "MSE_test = []\n",
        "for i in range(10,X_train.shape[0]):\n",
        "  lm = linear_model.Ridge(alpha=0.01, fit_intercept = True).fit(X_train[:i], y_train[:i])\n",
        "\n",
        "  # TODO\n",
        "  MSE_test.append(...)\n",
        "  MSE_train.append(...)\n",
        "\n",
        "plt.plot(MSE_train,label='train')\n",
        "plt.plot(MSE_test,label='test')\n",
        "plt.xlabel('datapoints')\n",
        "plt.ylabel('MSE')\n",
        "plt.legend()\n",
        "\n",
        "print(f'sklearn = MSE test {MSE_test[-1]}')"
      ]
    },
    {
      "cell_type": "code",
      "execution_count": null,
      "metadata": {
        "id": "lwrULmf4ThgI"
      },
      "outputs": [],
      "source": [
        "plt.plot(lm.predict(X_test), y_test, '.')\n",
        "plt.xlabel('labels predicted by the model')\n",
        "plt.ylabel('true test labels')"
      ]
    },
    {
      "cell_type": "markdown",
      "metadata": {
        "id": "0eTReXEjlGwL"
      },
      "source": [
        "1. What is the difference between the two methods?\n",
        "2. Should you rather use the Library or your own implementation?"
      ]
    },
    {
      "cell_type": "markdown",
      "metadata": {
        "id": "7NmeoFdhfQDU"
      },
      "source": [
        "## 2.5 Validation data set\n",
        "1. We did not use the validation data set so far, do we need it at all?\n",
        "2. Are there hyperparamters for SGD?\n",
        "3. How would can you estimate true the generalization error?"
      ]
    }
  ],
  "metadata": {
    "colab": {
      "provenance": [],
      "toc_visible": true
    },
    "kernelspec": {
      "display_name": "Python 3",
      "name": "python3"
    },
    "language_info": {
      "codemirror_mode": {
        "name": "ipython",
        "version": 3
      },
      "file_extension": ".py",
      "mimetype": "text/x-python",
      "name": "python",
      "nbconvert_exporter": "python",
      "pygments_lexer": "ipython3",
      "version": "3.12.7"
    }
  },
  "nbformat": 4,
  "nbformat_minor": 0
}
